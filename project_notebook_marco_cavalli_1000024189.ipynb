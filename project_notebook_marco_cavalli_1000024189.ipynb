{
 "cells": [
  {
   "cell_type": "markdown",
   "metadata": {},
   "source": [
    "<center>\n",
    "<span style=\"line-height:32px;display:block;font-size:32px;font-weight:bolder;\">Cardiovascular Study Dataset</span>\n",
    "<span style=\"line-height:32px;display:block;font-size:14px;font-weight:bold;color:gray;\">Predicting Heart Disease of Patients</span>\n",
    "<br>\n",
    "<br>    \n",
    "<img src=\"./images/image-01.jpg?1\" />\n",
    "<br>\n",
    "<br>\n",
    "<span style=\"line-height:32px;display:block;font-size:16px;font-weight:bold;\">University of Catania - Master Degree in Data Science</span>\n",
    "<span style=\"line-height:32px;display:block;font-size:16px;font-weight:bold;\">Academic year 2020/2021</h3>\n",
    "<span style=\"line-height:32px;display:block;font-size:16px;font-weight:bold;\">Project notebook or Fondamenti di Analisi Data</span>\n",
    "<br>\n",
    "<br>\n",
    "<br>\n",
    "<span style=\"line-height:32px;display:block;font-size:16px;font-weight:bold;\">Marco Cavalli - 1000024189</span>\n",
    "<span style=\"line-height:32px;display:block;font-size:16px;font-weight:bold;\">Teachers: G. Gallo - P. Riela</span>\n",
    "</center>"
   ]
  },
  {
   "cell_type": "markdown",
   "metadata": {},
   "source": [
    "<p style=\"line-height:32px;display:block;font-size:32px;font-weight:bolder;\" id=\"tocheading\">Table of Contents</p>\n",
    "<div id=\"toc\"></div>"
   ]
  },
  {
   "cell_type": "code",
   "execution_count": null,
   "metadata": {},
   "outputs": [],
   "source": []
  },
  {
   "cell_type": "code",
   "execution_count": null,
   "metadata": {},
   "outputs": [],
   "source": []
  },
  {
   "cell_type": "code",
   "execution_count": null,
   "metadata": {},
   "outputs": [],
   "source": []
  },
  {
   "cell_type": "code",
   "execution_count": null,
   "metadata": {},
   "outputs": [],
   "source": []
  },
  {
   "cell_type": "code",
   "execution_count": null,
   "metadata": {},
   "outputs": [],
   "source": []
  },
  {
   "cell_type": "code",
   "execution_count": 8,
   "metadata": {},
   "outputs": [
    {
     "data": {
      "application/javascript": [
       "$.getScript('https://kmahelona.github.io/ipython_notebook_goodies/ipython_notebook_toc.js')\n",
       "//This cell is needed only to recreate the table of content programmatically\n"
      ],
      "text/plain": [
       "<IPython.core.display.Javascript object>"
      ]
     },
     "metadata": {},
     "output_type": "display_data"
    }
   ],
   "source": [
    "%%javascript\n",
    "$.getScript('https://kmahelona.github.io/ipython_notebook_goodies/ipython_notebook_toc.js')\n",
    "//This cell is needed only to recreate the table of content programmatically"
   ]
  },
  {
   "cell_type": "code",
   "execution_count": null,
   "metadata": {},
   "outputs": [],
   "source": []
  }
 ],
 "metadata": {
  "kernelspec": {
   "display_name": "Python 3",
   "language": "python",
   "name": "python3"
  },
  "language_info": {
   "codemirror_mode": {
    "name": "ipython",
    "version": 3
   },
   "file_extension": ".py",
   "mimetype": "text/x-python",
   "name": "python",
   "nbconvert_exporter": "python",
   "pygments_lexer": "ipython3",
   "version": "3.7.6"
  }
 },
 "nbformat": 4,
 "nbformat_minor": 4
}
