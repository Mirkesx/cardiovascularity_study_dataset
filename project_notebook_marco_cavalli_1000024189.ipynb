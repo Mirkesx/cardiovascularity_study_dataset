{
 "cells": [
  {
   "cell_type": "markdown",
   "metadata": {},
   "source": [
    "<center>\n",
    "<span style=\"line-height:32px;display:block;font-size:32px;font-weight:bolder;\">Cardiovascular Study Dataset</span>\n",
    "<span style=\"line-height:32px;display:block;font-size:14px;font-weight:bold;color:gray;\">Predicting Heart Disease of Patients</span>\n",
    "<br>\n",
    "<br>    \n",
    "<img src=\"./images/image-01.jpg?1\" />\n",
    "<br>\n",
    "<br>\n",
    "<span style=\"line-height:32px;display:block;font-size:16px;font-weight:bold;\">University of Catania - Master Degree in Data Science</span>\n",
    "<span style=\"line-height:32px;display:block;font-size:16px;font-weight:bold;\">Academic year 2020/2021</h3>\n",
    "<span style=\"line-height:32px;display:block;font-size:16px;font-weight:bold;\">Project notebook or Fondamenti di Analisi Data</span>\n",
    "<br>\n",
    "<br>\n",
    "<br>\n",
    "<span style=\"line-height:32px;display:block;font-size:16px;font-weight:bold;\">Marco Cavalli - 1000024189</span>\n",
    "<span style=\"line-height:32px;display:block;font-size:16px;font-weight:bold;\">Teachers: G. Gallo - P. Riela</span>\n",
    "</center>"
   ]
  },
  {
   "cell_type": "code",
   "execution_count": 13,
   "metadata": {},
   "outputs": [
    {
     "data": {
      "application/javascript": [
       "$.getScript('scripts/table_of_contents.js')\n",
       "//This cell is needed only to creat§ the table of contents\n"
      ],
      "text/plain": [
       "<IPython.core.display.Javascript object>"
      ]
     },
     "metadata": {},
     "output_type": "display_data"
    }
   ],
   "source": [
    "%%javascript\n",
    "$.getScript('scripts/table_of_contents.js')\n",
    "//This cell is needed only to creat§ the table of contents"
   ]
  },
  {
   "cell_type": "markdown",
   "metadata": {},
   "source": [
    "<p style=\"line-height:32px;display:block;font-size:32px;font-weight:bolder;\" id=\"toctitle\">Table of Contents</p>\n",
    "<div id=\"toc\"></div>"
   ]
  },
  {
   "cell_type": "markdown",
   "metadata": {},
   "source": [
    "<h1>1 Introduction</h1>"
   ]
  },
  {
   "cell_type": "markdown",
   "metadata": {},
   "source": [
    "<h2>1.1 Purposes</h2>\n",
    "\n",
    "<p>World Health Organization has estimated 12 million deaths occur worldwide, every year due to Heart diseases. Half the deaths in the United States and other developed countries are due to cardio vascular diseases. The early prognosis of cardiovascular diseases can aid in making decisions on lifestyle changes in high risk patients and in turn reduce the complications.</p>\n",
    "\n",
    "<p>This notebook main purpose was to study the Framingham Heart dataset. The research on this dataset was organized in these three main sections:</p>\n",
    "\n",
    "<ol>\n",
    "    <li>Section one: Data Analysis and Data Refactor</li>\n",
    "    <li>Section two: Descriptive statistics on the data</li>\n",
    "    <li>Section three: Classification</li>\n",
    "</ol>"
   ]
  },
  {
   "cell_type": "markdown",
   "metadata": {},
   "source": [
    "<h2>1.2 About the dataset</h2>\n",
    "\n",
    "<p>The dataset is publically available on the Kaggle <a href=\"https://www.kaggle.com/amanajmera1/framingham-heart-study-dataset\">website</a>. It contains the data of over 4000 residents of the town of Framingham, Massachusetts. The meaning of this dataset is to determine if the patients will suffer at least a CHD (coronary heart disease) or not in ten years.</p>\n",
    "\n",
    "<p>To able to reach this goal, for each person they gave fifteen attributes divided in three groups: demographic, medical history of the patient and his or her current medical status (such as BMI, heart rate etc). Each attribute is a potential risk factor to determine if the patient will suffer a CHD in ten years.</p>\n",
    "\n",
    "<p>It follows now the list of the attributes:</p>\n",
    "\n",
    "<ol>\n",
    "    <li>Demographic\n",
    "        <ul>\n",
    "            <li>sex: male (value 1) or female (value 0)</li>\n",
    "            <li>age: Number of years as an integer number</li>\n",
    "            <li>education: Some High School (value 1); High School Degree or GED (value 2); Some College or Vocational School (value 3); College Degree or Vocational School Degree (value4)</li>\n",
    "            <li>currentSmoker: Smoker (1) or Nonsmoker (0)</li>\n",
    "            <li>cigsPerDay: Average number of cigarettes smoked per day as an integer (0 for nonsmokers)</li>\n",
    "        </ul>\n",
    "    </li>\n",
    "    <li>Medical History of the patient\n",
    "        <ul>\n",
    "            <li>BPMeds: Whether the patient is on Blood Pressure medications (value 1) or not (value 0)</li>\n",
    "            <li>prevalentStroke: Whether the patient already had at least a stroke (value 1) or not (value 0)</li>\n",
    "            <li>prevalentHyp: Whether the patient is hypertensive (value 1) or not (value 0)</li>\n",
    "            <li>diabetes: Whether the patient has diabetes (value 1) or not (value 0)</li>\n",
    "        </ul>\n",
    "    </li>\n",
    "    <li>Current Medical Status of the patient\n",
    "        <ul>\n",
    "            <li>totChol: Float number of the cholesterol measured as mg/dL</li>\n",
    "            <li>sysBP: Float number of the systolic blood pressure measured as mmHg</li>\n",
    "            <li>diaBP: Float number of the diastolic blood pressure measured as mmHg</li>\n",
    "            <li>BMI: Body Mass Index (weight/height$^{2}$) of the patient measured as kg/mt$^{2}$. It is a float number</li>\n",
    "            <li>heartRate: Beats/Minute. It is an integer number</li>\n",
    "            <li>glucose: Float number of the quantity of glucose in the patient's blood. Measured as mg/dL</li>\n",
    "        </ul>\n",
    "    </li>\n",
    "</ol>\n",
    "\n",
    "\n",
    "<p>As we said, this dataset is labeled. The column's name is TenYearCHD. There can be two possibilities:</p>\n",
    "\n",
    "<ol>\n",
    "    <li>Label 0: The patient won't have a CHD disease in 10 years.</li>\n",
    "    <li>Label 1: The patient will have at laest one CHD disease in 10 years.</li>\n",
    "</ol>"
   ]
  },
  {
   "cell_type": "markdown",
   "metadata": {},
   "source": [
    "<h2>1.3 Descriptions of the job-phases</h2>"
   ]
  },
  {
   "cell_type": "markdown",
   "metadata": {},
   "source": [
    "<h1>2 Requirements</h1>"
   ]
  },
  {
   "cell_type": "markdown",
   "metadata": {},
   "source": [
    "<h2>2.1 Python modules</h2>\n",
    "\n",
    "<p>To be able to run this code you will need to have the following modules:</p>\n",
    "\n",
    "<ol>\n",
    "    <li>numpy</li>\n",
    "    <li>pandas</li>\n",
    "    <li>matplotlib</li>\n",
    "</ol>\n",
    "\n",
    "<p>To install them you can either use the conda install command or pip.</p>"
   ]
  },
  {
   "cell_type": "code",
   "execution_count": 7,
   "metadata": {},
   "outputs": [
    {
     "name": "stdout",
     "output_type": "stream",
     "text": [
      "Collecting package metadata (current_repodata.json): ...working... done\n",
      "Solving environment: ...working... done\n",
      "\n",
      "## Package Plan ##\n",
      "\n",
      "  environment location: /home/mc/anaconda3/envs/fad\n",
      "\n",
      "  added / updated specs:\n",
      "    - matplotlib\n",
      "    - numpy\n",
      "    - pandas\n",
      "    - requests\n",
      "\n",
      "\n",
      "The following packages will be downloaded:\n",
      "\n",
      "    package                    |            build\n",
      "    ---------------------------|-----------------\n",
      "    brotlipy-0.7.0             |py38h7b6447c_1000         349 KB  anaconda\n",
      "    chardet-3.0.4              |        py38_1003         170 KB  anaconda\n",
      "    cryptography-3.1.1         |   py38h1ba5d50_0         618 KB  anaconda\n",
      "    idna-2.10                  |             py_0          56 KB  anaconda\n",
      "    pyopenssl-19.1.0           |             py_1          47 KB  anaconda\n",
      "    pysocks-1.7.1              |           py38_0          27 KB  anaconda\n",
      "    requests-2.24.0            |             py_0          54 KB  anaconda\n",
      "    urllib3-1.25.11            |             py_0          93 KB  anaconda\n",
      "    ------------------------------------------------------------\n",
      "                                           Total:         1.4 MB\n",
      "\n",
      "The following NEW packages will be INSTALLED:\n",
      "\n",
      "  brotlipy           anaconda/linux-64::brotlipy-0.7.0-py38h7b6447c_1000\n",
      "  chardet            anaconda/linux-64::chardet-3.0.4-py38_1003\n",
      "  cryptography       anaconda/linux-64::cryptography-3.1.1-py38h1ba5d50_0\n",
      "  idna               anaconda/noarch::idna-2.10-py_0\n",
      "  pyopenssl          anaconda/noarch::pyopenssl-19.1.0-py_1\n",
      "  pysocks            anaconda/linux-64::pysocks-1.7.1-py38_0\n",
      "  requests           anaconda/noarch::requests-2.24.0-py_0\n",
      "  urllib3            anaconda/noarch::urllib3-1.25.11-py_0\n",
      "\n",
      "\n",
      "Proceed ([y]/n)? \n",
      "\n",
      "Downloading and Extracting Packages\n",
      "\r",
      "urllib3-1.25.11      | 93 KB     |            |   0% \r",
      "urllib3-1.25.11      | 93 KB     | #7         |  17% \r",
      "urllib3-1.25.11      | 93 KB     | ########## | 100% \n",
      "\r",
      "pyopenssl-19.1.0     | 47 KB     |            |   0% \r",
      "pyopenssl-19.1.0     | 47 KB     | ########## | 100% \r",
      "pyopenssl-19.1.0     | 47 KB     | ########## | 100% \n",
      "\r",
      "brotlipy-0.7.0       | 349 KB    |            |   0% \r",
      "brotlipy-0.7.0       | 349 KB    | ######8    |  69% \r",
      "brotlipy-0.7.0       | 349 KB    | ########## | 100% \n",
      "\r",
      "chardet-3.0.4        | 170 KB    |            |   0% \r",
      "chardet-3.0.4        | 170 KB    | ########## | 100% \n",
      "\r",
      "cryptography-3.1.1   | 618 KB    |            |   0% \r",
      "cryptography-3.1.1   | 618 KB    | 2          |   3% \r",
      "cryptography-3.1.1   | 618 KB    | ########## | 100% \r",
      "cryptography-3.1.1   | 618 KB    | ########## | 100% \n",
      "\r",
      "pysocks-1.7.1        | 27 KB     |            |   0% \r",
      "pysocks-1.7.1        | 27 KB     | ########## | 100% \n",
      "\r",
      "requests-2.24.0      | 54 KB     |            |   0% \r",
      "requests-2.24.0      | 54 KB     | ##9        |  30% \r",
      "requests-2.24.0      | 54 KB     | ########## | 100% \n",
      "\r",
      "idna-2.10            | 56 KB     |            |   0% \r",
      "idna-2.10            | 56 KB     | ########## | 100% \r",
      "idna-2.10            | 56 KB     | ########## | 100% \n",
      "Preparing transaction: ...working... done\n",
      "Verifying transaction: ...working... done\n",
      "Executing transaction: ...working... done\n"
     ]
    }
   ],
   "source": [
    "%%bash\n",
    "\n",
    "\n",
    "conda install -c anaconda numpy pandas matplotlib"
   ]
  },
  {
   "cell_type": "markdown",
   "metadata": {},
   "source": [
    "<p>This is the command to run if you want to use pip.</p>"
   ]
  },
  {
   "cell_type": "code",
   "execution_count": 8,
   "metadata": {},
   "outputs": [
    {
     "name": "stdout",
     "output_type": "stream",
     "text": [
      "Requirement already satisfied: scikit-learn in /home/mc/anaconda3/lib/python3.7/site-packages (0.22.1)\n",
      "Requirement already satisfied: scipy>=0.17.0 in /home/mc/anaconda3/lib/python3.7/site-packages (from scikit-learn) (1.4.1)\n",
      "Requirement already satisfied: joblib>=0.11 in /home/mc/anaconda3/lib/python3.7/site-packages (from scikit-learn) (0.14.1)\n",
      "Requirement already satisfied: numpy>=1.11.0 in /home/mc/.local/lib/python3.7/site-packages (from scikit-learn) (1.19.3)\n"
     ]
    }
   ],
   "source": [
    "%%bash\n",
    "\n",
    "pip install numpy pandas matplotlib"
   ]
  },
  {
   "cell_type": "markdown",
   "metadata": {},
   "source": [
    "<h2>2.2 Download the dataset</h2>"
   ]
  },
  {
   "cell_type": "markdown",
   "metadata": {},
   "source": [
    "<p>The dataset is inside the \"./dataset\" folder so it is not needed to download it. Anyway, if it would get any updates (it is unlikely since last update was 4 years ago) it is possible to retrieve it from this <a hred=\"https://www.kaggle.com/amanajmera1/framingham-heart-study-dataset/download\">link</a>.</p>"
   ]
  },
  {
   "cell_type": "markdown",
   "metadata": {},
   "source": [
    "<h2>2.3 Import all the libraries</h2>"
   ]
  },
  {
   "cell_type": "markdown",
   "metadata": {},
   "source": [
    "<p>To avoid importing many time the same libraries, it is suggested to load all of them at once before going any further with the report.</p>"
   ]
  },
  {
   "cell_type": "code",
   "execution_count": 125,
   "metadata": {},
   "outputs": [],
   "source": [
    "import pandas as pd\n",
    "import numpy as np\n",
    "import math\n",
    "from matplotlib import pyplot as plt\n"
   ]
  },
  {
   "cell_type": "markdown",
   "metadata": {},
   "source": [
    "<h1>3 Data Analysis and Data Refactor</h1>"
   ]
  },
  {
   "cell_type": "markdown",
   "metadata": {},
   "source": [
    "<h2>3.1 Load the dataset</h2>"
   ]
  },
  {
   "cell_type": "markdown",
   "metadata": {},
   "source": [
    "<p>As first thing it is needed to load the dataset. Using the \"info\" method it is possible to have a look at the big picture and to understand a little bit more the data in the dataset.</p>"
   ]
  },
  {
   "cell_type": "code",
   "execution_count": 141,
   "metadata": {},
   "outputs": [],
   "source": [
    "framingham=pd.read_csv('dataset/framingham.csv')"
   ]
  },
  {
   "cell_type": "markdown",
   "metadata": {},
   "source": [
    "<h2>3.2 Data quality assessment</h2>"
   ]
  },
  {
   "cell_type": "code",
   "execution_count": 142,
   "metadata": {
    "scrolled": true
   },
   "outputs": [
    {
     "name": "stdout",
     "output_type": "stream",
     "text": [
      "<class 'pandas.core.frame.DataFrame'>\n",
      "RangeIndex: 4240 entries, 0 to 4239\n",
      "Data columns (total 16 columns):\n",
      " #   Column           Non-Null Count  Dtype  \n",
      "---  ------           --------------  -----  \n",
      " 0   male             4240 non-null   int64  \n",
      " 1   age              4240 non-null   int64  \n",
      " 2   education        4135 non-null   float64\n",
      " 3   currentSmoker    4240 non-null   int64  \n",
      " 4   cigsPerDay       4211 non-null   float64\n",
      " 5   BPMeds           4187 non-null   float64\n",
      " 6   prevalentStroke  4240 non-null   int64  \n",
      " 7   prevalentHyp     4240 non-null   int64  \n",
      " 8   diabetes         4240 non-null   int64  \n",
      " 9   totChol          4190 non-null   float64\n",
      " 10  sysBP            4240 non-null   float64\n",
      " 11  diaBP            4240 non-null   float64\n",
      " 12  BMI              4221 non-null   float64\n",
      " 13  heartRate        4239 non-null   float64\n",
      " 14  glucose          3852 non-null   float64\n",
      " 15  TenYearCHD       4240 non-null   int64  \n",
      "dtypes: float64(9), int64(7)\n",
      "memory usage: 530.1 KB\n"
     ]
    }
   ],
   "source": [
    "framingham.info()"
   ]
  },
  {
   "cell_type": "markdown",
   "metadata": {},
   "source": [
    "<p>The first column is called \"male\". It would be less confusing to call it \"sex\". Since it is probably better to still using numbers instead of words as values for this column, it will keep the same logic as discussed in section 1.2 About the dataset: 0 for females and 1 for males.</p>\n",
    "\n",
    "<p>It follows the operations block meant to change the name of the column \"male\" in \"sex\".</p>"
   ]
  },
  {
   "cell_type": "code",
   "execution_count": 143,
   "metadata": {},
   "outputs": [],
   "source": [
    "framingham.columns = [col if col != 'male' else 'sex' for col in framingham]"
   ]
  },
  {
   "cell_type": "markdown",
   "metadata": {},
   "source": [
    "<p><b>QUESTION: Are four classes for education really needed?</b></p>\n",
    "\n",
    "<p>It it not needed to have four classes for education because three of them would be enough for this case. The reason about this conclusion is that class 2 and class 3 are redundant. For the records, class 2 means that the patient has an High School degree, meanwhile class 3 means that the patient tried to get a college degree, but he or she finally hasn't get it yet. So, class 2 and class 3 are grouped together in class 2 and class 4 (which is patients with a college degree) is relabeled as class 3.</p>"
   ]
  },
  {
   "cell_type": "code",
   "execution_count": 145,
   "metadata": {},
   "outputs": [
    {
     "data": {
      "text/plain": [
       "count    4240.000000\n",
       "mean        1.681132\n",
       "std         0.663633\n",
       "min         1.000000\n",
       "25%         1.000000\n",
       "50%         2.000000\n",
       "75%         2.000000\n",
       "max         3.000000\n",
       "Name: education, dtype: float64"
      ]
     },
     "execution_count": 145,
     "metadata": {},
     "output_type": "execute_result"
    }
   ],
   "source": [
    "framingham['education'] = framingham['education'].fillna(1)\n",
    "framingham['education'] = framingham['education'].replace({3:2})\n",
    "framingham['education'] = framingham['education'].replace({4:3})\n",
    "framingham['education'].describe()"
   ]
  },
  {
   "cell_type": "markdown",
   "metadata": {},
   "source": [
    "<p><b>QUESTION: What to do with NaN values?</b></p>\n",
    "\n",
    "<p>The biggest problem is related with the NaN values of the column \"glucose\" because it is an important value. The easiest thing to do would be to use the mean value, but it is possible to find a way to get these values with linear regretion. It was decided to just drop them.</p>\n",
    "\n",
    "<p>There are other six columns with NaN values, but they are all almost \"full\", with few NaN values. The strategy to adopt for these columns is the following:</p>\n",
    "\n",
    "<ul>\n",
    "    <li>For education, NaN values are replaced with \"1\" which is the lowest value/class</li>\n",
    "    <li>For cigsPerDay, NaN values are replaced with \"0\" if the patient is not a smoker, or the mean value if he or she is a smoker</li>\n",
    "    <li>For BPMeds/totChol/BMI/heartRate it will be the mean value</li>\n",
    "</ul>"
   ]
  },
  {
   "cell_type": "code",
   "execution_count": 147,
   "metadata": {},
   "outputs": [],
   "source": [
    "framingham['BPMeds'] = framingham['BPMeds'].fillna(-1)\n",
    "framingham['totChol'] = framingham['totChol'].fillna(-1)\n",
    "framingham['BMI'] = framingham['BMI'].fillna(-1)\n",
    "framingham['heartRate'] = framingham['heartRate'].fillna(-1)\n",
    "framingham['BPMeds'] = framingham['BPMeds'].replace({-1:2})\n",
    "framingham['totChol'] = framingham['totChol'].replace({-1:2})\n",
    "framingham['BMI'] = framingham['BMI'].replace({-1:2})\n",
    "framingham['heartRate'] = framingham['heartRate'].replace({-1:2})"
   ]
  },
  {
   "cell_type": "code",
   "execution_count": 146,
   "metadata": {},
   "outputs": [
    {
     "name": "stdout",
     "output_type": "stream",
     "text": [
      "<class 'pandas.core.frame.DataFrame'>\n",
      "Int64Index: 3751 entries, 0 to 4239\n",
      "Data columns (total 16 columns):\n",
      " #   Column           Non-Null Count  Dtype  \n",
      "---  ------           --------------  -----  \n",
      " 0   sex              3751 non-null   int64  \n",
      " 1   age              3751 non-null   int64  \n",
      " 2   education        3751 non-null   float64\n",
      " 3   currentSmoker    3751 non-null   int64  \n",
      " 4   cigsPerDay       3751 non-null   float64\n",
      " 5   BPMeds           3751 non-null   float64\n",
      " 6   prevalentStroke  3751 non-null   int64  \n",
      " 7   prevalentHyp     3751 non-null   int64  \n",
      " 8   diabetes         3751 non-null   int64  \n",
      " 9   totChol          3751 non-null   float64\n",
      " 10  sysBP            3751 non-null   float64\n",
      " 11  diaBP            3751 non-null   float64\n",
      " 12  BMI              3751 non-null   float64\n",
      " 13  heartRate        3751 non-null   float64\n",
      " 14  glucose          3751 non-null   float64\n",
      " 15  TenYearCHD       3751 non-null   int64  \n",
      "dtypes: float64(9), int64(7)\n",
      "memory usage: 498.2 KB\n"
     ]
    }
   ],
   "source": [
    "framingham = framingham.dropna()\n",
    "framingham.info()"
   ]
  },
  {
   "cell_type": "code",
   "execution_count": null,
   "metadata": {},
   "outputs": [],
   "source": []
  },
  {
   "cell_type": "markdown",
   "metadata": {},
   "source": [
    "<h1>4 Descriptive statistics on the data</h1>"
   ]
  },
  {
   "cell_type": "markdown",
   "metadata": {},
   "source": [
    "<h1>5 Classification</h1>"
   ]
  },
  {
   "cell_type": "code",
   "execution_count": null,
   "metadata": {},
   "outputs": [],
   "source": []
  }
 ],
 "metadata": {
  "kernelspec": {
   "display_name": "Python 3",
   "language": "python",
   "name": "python3"
  },
  "language_info": {
   "codemirror_mode": {
    "name": "ipython",
    "version": 3
   },
   "file_extension": ".py",
   "mimetype": "text/x-python",
   "name": "python",
   "nbconvert_exporter": "python",
   "pygments_lexer": "ipython3",
   "version": "3.8.10"
  }
 },
 "nbformat": 4,
 "nbformat_minor": 4
}
